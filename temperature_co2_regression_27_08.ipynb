{
 "cells": [
  {
   "cell_type": "code",
   "execution_count": 48,
   "id": "7ff263a5-1e28-485c-90d3-072ac83b099c",
   "metadata": {},
   "outputs": [],
   "source": [
    "import pandas as pd\n",
    "import numpy as np\n",
    "import matplotlib.pyplot as plt\n",
    "from sklearn.linear_model import LinearRegression"
   ]
  },
  {
   "cell_type": "code",
   "execution_count": 49,
   "id": "29095358-77de-4cea-b6bc-8edf2e346dc4",
   "metadata": {},
   "outputs": [
    {
     "data": {
      "text/html": [
       "<div>\n",
       "<style scoped>\n",
       "    .dataframe tbody tr th:only-of-type {\n",
       "        vertical-align: middle;\n",
       "    }\n",
       "\n",
       "    .dataframe tbody tr th {\n",
       "        vertical-align: top;\n",
       "    }\n",
       "\n",
       "    .dataframe thead th {\n",
       "        text-align: right;\n",
       "    }\n",
       "</style>\n",
       "<table border=\"1\" class=\"dataframe\">\n",
       "  <thead>\n",
       "    <tr style=\"text-align: right;\">\n",
       "      <th></th>\n",
       "      <th>co2_em</th>\n",
       "      <th>mean_temp</th>\n",
       "    </tr>\n",
       "    <tr>\n",
       "      <th>Year</th>\n",
       "      <th></th>\n",
       "      <th></th>\n",
       "    </tr>\n",
       "  </thead>\n",
       "  <tbody>\n",
       "    <tr>\n",
       "      <th>1961</th>\n",
       "      <td>3777.010</td>\n",
       "      <td>18.041667</td>\n",
       "    </tr>\n",
       "    <tr>\n",
       "      <th>1962</th>\n",
       "      <td>3080.280</td>\n",
       "      <td>17.416667</td>\n",
       "    </tr>\n",
       "    <tr>\n",
       "      <th>1963</th>\n",
       "      <td>3960.360</td>\n",
       "      <td>17.083333</td>\n",
       "    </tr>\n",
       "    <tr>\n",
       "      <th>1964</th>\n",
       "      <td>4422.402</td>\n",
       "      <td>17.466667</td>\n",
       "    </tr>\n",
       "    <tr>\n",
       "      <th>1965</th>\n",
       "      <td>4261.054</td>\n",
       "      <td>17.041667</td>\n",
       "    </tr>\n",
       "  </tbody>\n",
       "</table>\n",
       "</div>"
      ],
      "text/plain": [
       "        co2_em  mean_temp\n",
       "Year                     \n",
       "1961  3777.010  18.041667\n",
       "1962  3080.280  17.416667\n",
       "1963  3960.360  17.083333\n",
       "1964  4422.402  17.466667\n",
       "1965  4261.054  17.041667"
      ]
     },
     "execution_count": 49,
     "metadata": {},
     "output_type": "execute_result"
    }
   ],
   "source": [
    "df = pd.read_csv('all_data.csv').set_index('Year').loc[:, ['co2_em', 'mean_temp']]\n",
    "df.head()"
   ]
  },
  {
   "cell_type": "code",
   "execution_count": 70,
   "id": "3bb942b5-01c6-41e1-ab35-b7ffa38cb425",
   "metadata": {},
   "outputs": [
    {
     "data": {
      "text/plain": [
       "Text(0, 0.5, 'mean_temperature(C°)')"
      ]
     },
     "execution_count": 70,
     "metadata": {},
     "output_type": "execute_result"
    },
    {
     "data": {
      "image/png": "[encoded data removed]",
      "text/plain": [
       "<Figure size 432x288 with 1 Axes>"
      ]
     },
     "metadata": {
      "needs_background": "light"
     },
     "output_type": "display_data"
    }
   ],
   "source": [
    "%matplotlib inline\n",
    "df = pd.read_csv('all_data.csv')\n",
    "plt.scatter(df.co2_em, df.mean_temp, color = 'red', marker = '+') \n",
    "plt.xlabel('Sum_of_CO2_Emissions(kt)')\n",
    "plt.ylabel('mean_temperature(C°)')"
   ]
  },
  {
   "cell_type": "code",
   "execution_count": 71,
   "id": "1b1c1db5-e9d7-42de-a04c-de8cd9c34ff5",
   "metadata": {},
   "outputs": [],
   "source": [
    "# mean_temp(C°) = 2.27e-05* co2_em(kt) + 17.003"
   ]
  },
  {
   "cell_type": "code",
   "execution_count": 88,
   "id": "5cadb17f-e84e-4ad2-8ab9-72553b664c66",
   "metadata": {},
   "outputs": [],
   "source": [
    "%matplotlib inline\n",
    "reg = LinearRegression().fit(df[['co2_em']], df[['mean_temp']])\n",
    "R = reg.score(df[['co2_em']], df[['mean_temp']])"
   ]
  },
  {
   "cell_type": "code",
   "execution_count": 74,
   "id": "d2e35735-9fa4-4981-9aa2-8dcaa3e6b327",
   "metadata": {},
   "outputs": [
    {
     "data": {
      "text/plain": [
       "0.5801264324975528"
      ]
     },
     "execution_count": 74,
     "metadata": {},
     "output_type": "execute_result"
    }
   ],
   "source": [
    "R # the correlation coefficient is not high, so wwe can not assume that there is a strong correlation\n",
    "# between co2_emissions and the tempretaure evolution"
   ]
  },
  {
   "cell_type": "code",
   "execution_count": 83,
   "id": "d457b41f-2c18-4abb-a2c7-f3825309c149",
   "metadata": {},
   "outputs": [
    {
     "data": {
      "text/plain": [
       "array([[2.27993444e-05]])"
      ]
     },
     "execution_count": 83,
     "metadata": {},
     "output_type": "execute_result"
    }
   ],
   "source": [
    "reg.coef_ # the coefficient of the equation"
   ]
  },
  {
   "cell_type": "code",
   "execution_count": 84,
   "id": "49396140-8ac6-41ef-bc1c-0404f99a40f5",
   "metadata": {},
   "outputs": [
    {
     "data": {
      "text/plain": [
       "array([17.00368322])"
      ]
     },
     "execution_count": 84,
     "metadata": {},
     "output_type": "execute_result"
    }
   ],
   "source": [
    "reg.intercept_ # the constant in the equation "
   ]
  },
  {
   "cell_type": "code",
   "execution_count": 89,
   "id": "54d88079-cfc7-4fab-ad7a-7b89a8046b12",
   "metadata": {},
   "outputs": [
    {
     "data": {
      "text/html": [
       "<div>\n",
       "<style scoped>\n",
       "    .dataframe tbody tr th:only-of-type {\n",
       "        vertical-align: middle;\n",
       "    }\n",
       "\n",
       "    .dataframe tbody tr th {\n",
       "        vertical-align: top;\n",
       "    }\n",
       "\n",
       "    .dataframe thead th {\n",
       "        text-align: right;\n",
       "    }\n",
       "</style>\n",
       "<table border=\"1\" class=\"dataframe\">\n",
       "  <thead>\n",
       "    <tr style=\"text-align: right;\">\n",
       "      <th></th>\n",
       "      <th>co2_em</th>\n",
       "    </tr>\n",
       "  </thead>\n",
       "  <tbody>\n",
       "    <tr>\n",
       "      <th>0</th>\n",
       "      <td>3641.331</td>\n",
       "    </tr>\n",
       "    <tr>\n",
       "      <th>1</th>\n",
       "      <td>3777.010</td>\n",
       "    </tr>\n",
       "  </tbody>\n",
       "</table>\n",
       "</div>"
      ],
      "text/plain": [
       "     co2_em\n",
       "0  3641.331\n",
       "1  3777.010"
      ]
     },
     "execution_count": 89,
     "metadata": {},
     "output_type": "execute_result"
    }
   ],
   "source": [
    "pred = pd.read_csv('prediction.csv')\n",
    "pred.head(2)"
   ]
  },
  {
   "cell_type": "code",
   "execution_count": 105,
   "id": "99632f82-34cf-404c-a638-ed78714beabc",
   "metadata": {},
   "outputs": [],
   "source": [
    "prediction = reg.predict(pred[['co2_em']])"
   ]
  },
  {
   "cell_type": "code",
   "execution_count": 111,
   "id": "bc36444a-1b58-4c93-b066-d9d0d2509a6b",
   "metadata": {},
   "outputs": [
    {
     "data": {
      "text/html": [
       "<div>\n",
       "<style scoped>\n",
       "    .dataframe tbody tr th:only-of-type {\n",
       "        vertical-align: middle;\n",
       "    }\n",
       "\n",
       "    .dataframe tbody tr th {\n",
       "        vertical-align: top;\n",
       "    }\n",
       "\n",
       "    .dataframe thead th {\n",
       "        text-align: right;\n",
       "    }\n",
       "</style>\n",
       "<table border=\"1\" class=\"dataframe\">\n",
       "  <thead>\n",
       "    <tr style=\"text-align: right;\">\n",
       "      <th></th>\n",
       "      <th>co2_em</th>\n",
       "      <th>prediction</th>\n",
       "    </tr>\n",
       "  </thead>\n",
       "  <tbody>\n",
       "    <tr>\n",
       "      <th>0</th>\n",
       "      <td>3641.331</td>\n",
       "      <td>17.086703</td>\n",
       "    </tr>\n",
       "    <tr>\n",
       "      <th>1</th>\n",
       "      <td>3777.010</td>\n",
       "      <td>17.089797</td>\n",
       "    </tr>\n",
       "    <tr>\n",
       "      <th>2</th>\n",
       "      <td>3080.280</td>\n",
       "      <td>17.073912</td>\n",
       "    </tr>\n",
       "    <tr>\n",
       "      <th>3</th>\n",
       "      <td>3960.360</td>\n",
       "      <td>17.093977</td>\n",
       "    </tr>\n",
       "    <tr>\n",
       "      <th>4</th>\n",
       "      <td>4422.402</td>\n",
       "      <td>17.104511</td>\n",
       "    </tr>\n",
       "  </tbody>\n",
       "</table>\n",
       "</div>"
      ],
      "text/plain": [
       "     co2_em  prediction\n",
       "0  3641.331   17.086703\n",
       "1  3777.010   17.089797\n",
       "2  3080.280   17.073912\n",
       "3  3960.360   17.093977\n",
       "4  4422.402   17.104511"
      ]
     },
     "execution_count": 111,
     "metadata": {},
     "output_type": "execute_result"
    }
   ],
   "source": [
    "pred['prediction'] = prediction\n",
    "pred.head()"
   ]
  },
  {
   "cell_type": "code",
   "execution_count": 106,
   "id": "6821429c-2763-41fa-99cc-b8c064bc3046",
   "metadata": {},
   "outputs": [
    {
     "data": {
      "text/plain": [
       "array([[17.11767994]])"
      ]
     },
     "execution_count": 106,
     "metadata": {},
     "output_type": "execute_result"
    }
   ],
   "source": [
    "reg.predict([[5000]])"
   ]
  },
  {
   "cell_type": "code",
   "execution_count": 107,
   "id": "f42a6840-8455-4e42-aeb0-d905fa51df60",
   "metadata": {},
   "outputs": [
    {
     "data": {
      "text/plain": [
       "array([[17.23167666]])"
      ]
     },
     "execution_count": 107,
     "metadata": {},
     "output_type": "execute_result"
    }
   ],
   "source": [
    "reg.predict([[10000]])"
   ]
  },
  {
   "cell_type": "code",
   "execution_count": 113,
   "id": "8646abf0-1a26-44ce-82fb-4be7eeec2cea",
   "metadata": {},
   "outputs": [
    {
     "data": {
      "text/plain": [
       "<matplotlib.collections.PathCollection at 0x7f44e46d8bb0>"
      ]
     },
     "execution_count": 113,
     "metadata": {},
     "output_type": "execute_result"
    },
    {
     "data": {
      "image/png": "[encoded data removed]",
      "text/plain": [
       "<Figure size 432x288 with 1 Axes>"
      ]
     },
     "metadata": {
      "needs_background": "light"
     },
     "output_type": "display_data"
    }
   ],
   "source": [
    "plt.scatter(pred.co2_em, pred.prediction, color = 'red', marker = '*') "
   ]
  },
  {
   "cell_type": "code",
   "execution_count": null,
   "id": "16755d86-0885-4ad1-b8bf-5cb5b3a85c3e",
   "metadata": {},
   "outputs": [],
   "source": []
  }
 ],
 "metadata": {
  "kernelspec": {
   "display_name": "Python 3",
   "language": "python",
   "name": "python3"
  },
  "language_info": {
   "codemirror_mode": {
    "name": "ipython",
    "version": 3
   },
   "file_extension": ".py",
   "mimetype": "text/x-python",
   "name": "python",
   "nbconvert_exporter": "python",
   "pygments_lexer": "ipython3",
   "version": "3.8.8"
  }
 },
 "nbformat": 4,
 "nbformat_minor": 5
}
